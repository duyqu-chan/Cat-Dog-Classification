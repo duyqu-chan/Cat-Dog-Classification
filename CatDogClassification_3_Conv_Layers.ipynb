{
  "nbformat": 4,
  "nbformat_minor": 0,
  "metadata": {
    "colab": {
      "name": "CatDogClassification-3 Conv Layers.ipynb",
      "version": "0.3.2",
      "provenance": [],
      "collapsed_sections": [],
      "include_colab_link": true
    },
    "kernelspec": {
      "name": "python3",
      "display_name": "Python 3"
    },
    "accelerator": "GPU"
  },
  "cells": [
    {
      "cell_type": "markdown",
      "metadata": {
        "id": "view-in-github",
        "colab_type": "text"
      },
      "source": [
        "<a href=\"https://colab.research.google.com/github/duyqu-chan/Cat-Dog-Classification/blob/master/CatDogClassification_3_Conv_Layers.ipynb\" target=\"_parent\"><img src=\"https://colab.research.google.com/assets/colab-badge.svg\" alt=\"Open In Colab\"/></a>"
      ]
    },
    {
      "cell_type": "markdown",
      "metadata": {
        "id": "FL8pkMW3tq35",
        "colab_type": "text"
      },
      "source": [
        "# Cat-Dog Classification Homework\n"
      ]
    },
    {
      "cell_type": "code",
      "metadata": {
        "id": "Jwc3kX9Jt5Cv",
        "colab_type": "code",
        "outputId": "ec4d70ab-2cad-4d2f-df25-77628b09f41a",
        "colab": {
          "base_uri": "https://localhost:8080/",
          "height": 34
        }
      },
      "source": [
        "import numpy as np\n",
        "import tensorflow as tf\n",
        "import random as rn\n",
        "\n",
        "# The below is necessary in Python 3.2.3 onwards to\n",
        "# have reproducible behavior for certain hash-based operations.\n",
        "# See these references for further details:\n",
        "# https://docs.python.org/3.4/using/cmdline.html#envvar-PYTHONHASHSEED\n",
        "# https://github.com/keras-team/keras/issues/2280#issuecomment-306959926\n",
        "\n",
        "import os\n",
        "os.environ['PYTHONHASHSEED'] = '0'\n",
        "\n",
        "# The below is necessary for starting Numpy generated random numbers\n",
        "# in a well-defined initial state.\n",
        "\n",
        "np.random.seed(42)\n",
        "\n",
        "# The below is necessary for starting core Python generated random numbers\n",
        "# in a well-defined state.\n",
        "\n",
        "rn.seed(12345)\n",
        "\n",
        "# Force TensorFlow to use single thread.\n",
        "# Multiple threads are a potential source of\n",
        "# non-reproducible results.\n",
        "# For further details, see: https://stackoverflow.com/questions/42022950/which-seeds-have-to-be-set-where-to-realize-100-reproducibility-of-training-res\n",
        "\n",
        "session_conf = tf.ConfigProto(intra_op_parallelism_threads=1, inter_op_parallelism_threads=1)\n",
        "\n",
        "from keras import backend as K\n",
        "\n",
        "# The below tf.set_random_seed() will make random number generation\n",
        "# in the TensorFlow backend have a well-defined initial state.\n",
        "# For further details, see: https://www.tensorflow.org/api_docs/python/tf/set_random_seed\n",
        "\n",
        "tf.set_random_seed(1234)\n",
        "\n",
        "sess = tf.Session(graph=tf.get_default_graph(), config=session_conf)\n",
        "K.set_session(sess)"
      ],
      "execution_count": 0,
      "outputs": [
        {
          "output_type": "stream",
          "text": [
            "Using TensorFlow backend.\n"
          ],
          "name": "stderr"
        }
      ]
    },
    {
      "cell_type": "markdown",
      "metadata": {
        "id": "ExOdh1VQ4TS1",
        "colab_type": "text"
      },
      "source": [
        "First, we will get the raw data from a GitHub[ repo](https://github.com/ardamavi/Dog-Cat-Classifier/tree/master/Data/npy_train_data)."
      ]
    },
    {
      "cell_type": "code",
      "metadata": {
        "id": "tDFFDQQk4PpQ",
        "colab_type": "code",
        "outputId": "8cb2191d-19ce-4a78-f136-ed4febfe2720",
        "colab": {
          "base_uri": "https://localhost:8080/",
          "height": 697
        }
      },
      "source": [
        "# X:\n",
        "! wget https://github.com/ardamavi/Dog-Cat-Classifier/blob/master/Data/npy_train_data/X.npy?raw=true -O X.npy\n",
        "  \n",
        "# Y:\n",
        "! wget https://github.com/ardamavi/Dog-Cat-Classifier/blob/master/Data/npy_train_data/Y.npy?raw=true -O Y.npy"
      ],
      "execution_count": 0,
      "outputs": [
        {
          "output_type": "stream",
          "text": [
            "--2019-06-19 12:38:29--  https://github.com/ardamavi/Dog-Cat-Classifier/blob/master/Data/npy_train_data/X.npy?raw=true\n",
            "Resolving github.com (github.com)... 140.82.118.3\n",
            "Connecting to github.com (github.com)|140.82.118.3|:443... connected.\n",
            "HTTP request sent, awaiting response... 302 Found\n",
            "Location: https://github.com/ardamavi/Dog-Cat-Classifier/raw/master/Data/npy_train_data/X.npy [following]\n",
            "--2019-06-19 12:38:29--  https://github.com/ardamavi/Dog-Cat-Classifier/raw/master/Data/npy_train_data/X.npy\n",
            "Reusing existing connection to github.com:443.\n",
            "HTTP request sent, awaiting response... 302 Found\n",
            "Location: https://media.githubusercontent.com/media/ardamavi/Dog-Cat-Classifier/master/Data/npy_train_data/X.npy [following]\n",
            "--2019-06-19 12:38:30--  https://media.githubusercontent.com/media/ardamavi/Dog-Cat-Classifier/master/Data/npy_train_data/X.npy\n",
            "Resolving media.githubusercontent.com (media.githubusercontent.com)... 151.101.0.133, 151.101.64.133, 151.101.128.133, ...\n",
            "Connecting to media.githubusercontent.com (media.githubusercontent.com)|151.101.0.133|:443... connected.\n",
            "HTTP request sent, awaiting response... 200 OK\n",
            "Length: 137625696 (131M) [application/octet-stream]\n",
            "Saving to: ‘X.npy’\n",
            "\n",
            "X.npy               100%[===================>] 131.25M   197MB/s    in 0.7s    \n",
            "\n",
            "2019-06-19 12:38:33 (197 MB/s) - ‘X.npy’ saved [137625696/137625696]\n",
            "\n",
            "--2019-06-19 12:38:34--  https://github.com/ardamavi/Dog-Cat-Classifier/blob/master/Data/npy_train_data/Y.npy?raw=true\n",
            "Resolving github.com (github.com)... 140.82.118.3\n",
            "Connecting to github.com (github.com)|140.82.118.3|:443... connected.\n",
            "HTTP request sent, awaiting response... 302 Found\n",
            "Location: https://github.com/ardamavi/Dog-Cat-Classifier/raw/master/Data/npy_train_data/Y.npy [following]\n",
            "--2019-06-19 12:38:34--  https://github.com/ardamavi/Dog-Cat-Classifier/raw/master/Data/npy_train_data/Y.npy\n",
            "Reusing existing connection to github.com:443.\n",
            "HTTP request sent, awaiting response... 302 Found\n",
            "Location: https://media.githubusercontent.com/media/ardamavi/Dog-Cat-Classifier/master/Data/npy_train_data/Y.npy [following]\n",
            "--2019-06-19 12:38:34--  https://media.githubusercontent.com/media/ardamavi/Dog-Cat-Classifier/master/Data/npy_train_data/Y.npy\n",
            "Resolving media.githubusercontent.com (media.githubusercontent.com)... 151.101.0.133, 151.101.64.133, 151.101.128.133, ...\n",
            "Connecting to media.githubusercontent.com (media.githubusercontent.com)|151.101.0.133|:443... connected.\n",
            "HTTP request sent, awaiting response... 200 OK\n",
            "Length: 22480 (22K) [application/octet-stream]\n",
            "Saving to: ‘Y.npy’\n",
            "\n",
            "Y.npy               100%[===================>]  21.95K  --.-KB/s    in 0.003s  \n",
            "\n",
            "2019-06-19 12:38:35 (6.38 MB/s) - ‘Y.npy’ saved [22480/22480]\n",
            "\n"
          ],
          "name": "stdout"
        }
      ]
    },
    {
      "cell_type": "markdown",
      "metadata": {
        "id": "JEdL_rkw4qb2",
        "colab_type": "text"
      },
      "source": [
        "Now, we have the following files:"
      ]
    },
    {
      "cell_type": "code",
      "metadata": {
        "id": "MiCbbjQM6MpB",
        "colab_type": "code",
        "outputId": "dad914bd-41ff-44fa-ceb6-3113fe671065",
        "colab": {
          "base_uri": "https://localhost:8080/",
          "height": 34
        }
      },
      "source": [
        "!ls"
      ],
      "execution_count": 0,
      "outputs": [
        {
          "output_type": "stream",
          "text": [
            "sample_data  X.npy  Y.npy\n"
          ],
          "name": "stdout"
        }
      ]
    },
    {
      "cell_type": "markdown",
      "metadata": {
        "id": "gd4IXMVG5bdg",
        "colab_type": "text"
      },
      "source": [
        "We can read the data as follows:"
      ]
    },
    {
      "cell_type": "code",
      "metadata": {
        "id": "8WMayKBA6Vsu",
        "colab_type": "code",
        "colab": {}
      },
      "source": [
        "import numpy as np\n",
        "\n",
        "X = np.load('X.npy')\n",
        "Y = np.load('Y.npy')"
      ],
      "execution_count": 0,
      "outputs": []
    },
    {
      "cell_type": "markdown",
      "metadata": {
        "id": "1N9MokgSf2qY",
        "colab_type": "text"
      },
      "source": [
        "## About the Dataset"
      ]
    },
    {
      "cell_type": "markdown",
      "metadata": {
        "id": "Fq3ozCBy60Bj",
        "colab_type": "text"
      },
      "source": [
        "There are 1400 images belonging to two classes (cat or dog). The resolution is 64x64 and there are 3 color channels for red, green and blue."
      ]
    },
    {
      "cell_type": "code",
      "metadata": {
        "id": "Bp-dip5G5xZi",
        "colab_type": "code",
        "outputId": "b41f1a7c-7521-4189-f825-568f4b517d7e",
        "colab": {
          "base_uri": "https://localhost:8080/",
          "height": 51
        }
      },
      "source": [
        "print('X Shape:', X.shape)\n",
        "print('Y Shape:', Y.shape)"
      ],
      "execution_count": 0,
      "outputs": [
        {
          "output_type": "stream",
          "text": [
            "X Shape: (1260, 64, 64, 3)\n",
            "Y Shape: (1260, 2)\n"
          ],
          "name": "stdout"
        }
      ]
    },
    {
      "cell_type": "markdown",
      "metadata": {
        "id": "B0NLBVZei7xG",
        "colab_type": "text"
      },
      "source": [
        "Hopefully, we have uniform categorical distribution."
      ]
    },
    {
      "cell_type": "code",
      "metadata": {
        "id": "io_jQ4DhimEA",
        "colab_type": "code",
        "outputId": "eff2f7f4-6a9e-4703-a185-017795bae477",
        "colab": {
          "base_uri": "https://localhost:8080/",
          "height": 286
        }
      },
      "source": [
        "import seaborn as sns\n",
        "category = Y[:,0]\n",
        "sns.countplot(category)"
      ],
      "execution_count": 0,
      "outputs": [
        {
          "output_type": "execute_result",
          "data": {
            "text/plain": [
              "<matplotlib.axes._subplots.AxesSubplot at 0x7f1539480e80>"
            ]
          },
          "metadata": {
            "tags": []
          },
          "execution_count": 6
        },
        {
          "output_type": "display_data",
          "data": {
            "image/png": "[encoded data removed]",
            "text/plain": [
              "<Figure size 432x288 with 1 Axes>"
            ]
          },
          "metadata": {
            "tags": []
          }
        }
      ]
    },
    {
      "cell_type": "markdown",
      "metadata": {
        "id": "Onp5GbVPTCZ3",
        "colab_type": "text"
      },
      "source": [
        "Let's visualize 76th sample."
      ]
    },
    {
      "cell_type": "code",
      "metadata": {
        "id": "v1vfZaPaUrna",
        "colab_type": "code",
        "outputId": "c279dbb8-215a-4590-9f7b-ea9d41f44b89",
        "colab": {
          "base_uri": "https://localhost:8080/",
          "height": 281
        }
      },
      "source": [
        "import matplotlib\n",
        "import matplotlib.pyplot as plt\n",
        "\n",
        "sample_index = 76\n",
        "%matplotlib inline\n",
        "img = X[sample_index]/255 #normalize the image vector into 0-255 range\n",
        "labelArr = Y[sample_index]\n",
        "\n",
        "#decode label\n",
        "if (labelArr == [1, 0]).all():\n",
        "  label = \"cat\"\n",
        "else:\n",
        "  label = \"dog\"\n",
        "  \n",
        "plt.imshow(img, interpolation='nearest')\n",
        "plt.axis(\"off\")\n",
        "plt.title(label)\n",
        "plt.show()"
      ],
      "execution_count": 0,
      "outputs": [
        {
          "output_type": "display_data",
          "data": {
            "image/png": "[encoded data removed]",
            "text/plain": [
              "<Figure size 432x288 with 1 Axes>"
            ]
          },
          "metadata": {
            "tags": []
          }
        }
      ]
    },
    {
      "cell_type": "markdown",
      "metadata": {
        "id": "6Mo4KYqAtjQb",
        "colab_type": "text"
      },
      "source": [
        "## Pre-processing\n",
        "Subtract mean image from each value to center the data around zero"
      ]
    },
    {
      "cell_type": "code",
      "metadata": {
        "id": "7tcSWQ0On_UY",
        "colab_type": "code",
        "colab": {}
      },
      "source": [
        "X /= 255\n",
        "X -= np.mean(X, axis = 0)"
      ],
      "execution_count": 0,
      "outputs": []
    },
    {
      "cell_type": "markdown",
      "metadata": {
        "id": "cmlCbRpfdt6B",
        "colab_type": "text"
      },
      "source": [
        "## Train/Test Split\n",
        "\n",
        "We reserved 90% of the data for training and 10% for validation. To better represent test data with training data stratified sampling is used."
      ]
    },
    {
      "cell_type": "code",
      "metadata": {
        "id": "u1oF5GrnYt1w",
        "colab_type": "code",
        "colab": {}
      },
      "source": [
        "from sklearn.model_selection import train_test_split\n",
        "\n",
        "X, X_test, Y, Y_test = train_test_split(X,Y,test_size = 0.1,stratify=Y, random_state = 42) #random seed i sabitle"
      ],
      "execution_count": 0,
      "outputs": []
    },
    {
      "cell_type": "code",
      "metadata": {
        "id": "R19yTOXMbgyX",
        "colab_type": "code",
        "outputId": "8b11e20e-6183-41ae-b222-1b3bbf5440d0",
        "colab": {
          "base_uri": "https://localhost:8080/",
          "height": 286
        }
      },
      "source": [
        "import seaborn as sns\n",
        "category = Y_test[:,0]\n",
        "sns.countplot(category)"
      ],
      "execution_count": 0,
      "outputs": [
        {
          "output_type": "execute_result",
          "data": {
            "text/plain": [
              "<matplotlib.axes._subplots.AxesSubplot at 0x7f5dbeeef128>"
            ]
          },
          "metadata": {
            "tags": []
          },
          "execution_count": 8
        },
        {
          "output_type": "display_data",
          "data": {
            "image/png": "[encoded data removed]",
            "text/plain": [
              "<Figure size 432x288 with 1 Axes>"
            ]
          },
          "metadata": {
            "tags": []
          }
        }
      ]
    },
    {
      "cell_type": "markdown",
      "metadata": {
        "id": "ogb2zjwnfVIV",
        "colab_type": "text"
      },
      "source": [
        "## Building the Model\n",
        "\n",
        "### Architecture:\n",
        "+ Input Data Shape: 64x64x3\n",
        "+ Layer 1:\n",
        "  + Convolutional Layer: 32 filters with 5x5 shape\n",
        "  + Activation Function: Leaky ReLu\n",
        "  + Max Pooling: with a pooling size of 2x2\n",
        "\n",
        "+ Layer 2:\n",
        "  + Convolutional Layer: 64 filters with 3x3 shape\n",
        "  + Activation Function: Leaky ReLu\n",
        "  + Max Pooling Pool shape: 2x2\n",
        "\n",
        "+ Layer 3:\n",
        "  + Dropout: with rate = 0.25\n",
        "\n",
        "+ Layer 4: \n",
        "  + Convolutional Layer: 128 filters with shape 3x3\n",
        "  + Activation Function: Leaky ReLu\n",
        "  + Max Pooling Pool shape: 2x2\n",
        "\n",
        "+ Classification:\n",
        "  + Flatten\n",
        "  + Dense Size: 128\n",
        "  + Activation Function: ReLu\n",
        "  + Dropout Rate: 0.35\n",
        "  + Dense Size: 2\n",
        "  + Activation Function: Softmax\n",
        "\n",
        "Optimizer: Adam\n",
        "\n",
        "Loss: Categorical Crossentropy\n"
      ]
    },
    {
      "cell_type": "code",
      "metadata": {
        "id": "vtZqcBvJl2mP",
        "colab_type": "code",
        "colab": {}
      },
      "source": [
        "# parameters to be optimized\n",
        "inputShape = (64, 64, 3)\n",
        "classNum = Y.shape[1]\n",
        "k1 = 5 # Kernel dimension of the 1st layer\n",
        "f1 = 32 # the number of output filters in the 1st layer\n",
        "k2 = 3 # Kernel dimension of the 2nd layer\n",
        "f2 = 64 # the number of output filters in the 2nd layer\n",
        "k3 = 3 # Kernel dimension of the 3rd layer\n",
        "f3 = 128 # the number of output filters in the 3rd layer\n",
        "\n",
        "d_conv = 0.25 # dropout rate of the convolutional layers\n",
        "d_dense = 0.35 # dropout rate of the dense layer\n",
        "LR = 0.0007#learning rate passed to the annealer\n",
        "Epochs = 40 # \n",
        "batchSize = 64 # number of randomly taken samples from features and labels to feed into each epoch until an epoch limit is reached."
      ],
      "execution_count": 0,
      "outputs": []
    },
    {
      "cell_type": "code",
      "metadata": {
        "id": "JwXLITZkXiS9",
        "colab_type": "code",
        "outputId": "0af2ba16-be1a-4b8b-fce0-e131145b89be",
        "colab": {
          "base_uri": "https://localhost:8080/",
          "height": 612
        }
      },
      "source": [
        "import keras\n",
        "from keras.models import Sequential\n",
        "from keras.layers import Dense, Dropout, Flatten,  BatchNormalization, Conv2D, MaxPooling2D, Activation\n",
        "from keras import backend as K\n",
        "from keras.callbacks import LearningRateScheduler\n",
        "from keras.layers import LeakyReLU\n",
        "\n",
        "model = Sequential()\n",
        "\n",
        "model.add(Conv2D(filters=f1,kernel_size=(k1,k1),padding='Same',kernel_initializer=\"glorot_normal\", \n",
        "                 input_shape = inputShape))\n",
        "#model.add(BatchNormalization())\n",
        "#model.add(Activation('relu'))\n",
        "# now add a ReLU layer explicitly:\n",
        "model.add(LeakyReLU(alpha=0.05))\n",
        "model.add(MaxPooling2D(pool_size=(2,2)))\n",
        "#model.add(Dropout(d_conv))\n",
        "\n",
        "\n",
        "model.add(Conv2D(filters=f2,kernel_size=(k2,k2),padding='Same',kernel_initializer=\"glorot_normal\"))\n",
        "#model.add(BatchNormalization())\n",
        "#model.add(Activation('relu'))\n",
        "# now add a ReLU layer explicitly:\n",
        "model.add(LeakyReLU(alpha=0.05))\n",
        "model.add(MaxPooling2D(pool_size=(2,2)))\n",
        "model.add(Dropout(rate =d_conv))\n",
        "\n",
        "\n",
        "\n",
        "model.add(Conv2D(filters = f3, kernel_size = (k3,k3),padding = 'Same',kernel_initializer=\"glorot_normal\"))\n",
        "#model.add(BatchNormalization())#kapamayi dene\n",
        "#model.add(Activation('relu'))\n",
        "# now add a ReLU layer explicitly:\n",
        "model.add(LeakyReLU(alpha=0.05))\n",
        "model.add(MaxPooling2D(pool_size=(2,2)))\n",
        "#model.add(Dropout(d_conv))\n",
        " \n",
        "model.add(Flatten())\n",
        "model.add(Dense(256, activation = \"relu\"))\n",
        "model.add(Dropout(rate =d_dense))\n",
        "model.add(Dense(classNum, activation = \"softmax\")) #sigmoid dene\n",
        "\n",
        "model.summary()"
      ],
      "execution_count": 0,
      "outputs": [
        {
          "output_type": "stream",
          "text": [
            "_________________________________________________________________\n",
            "Layer (type)                 Output Shape              Param #   \n",
            "=================================================================\n",
            "conv2d_70 (Conv2D)           (None, 64, 64, 32)        2432      \n",
            "_________________________________________________________________\n",
            "leaky_re_lu_70 (LeakyReLU)   (None, 64, 64, 32)        0         \n",
            "_________________________________________________________________\n",
            "max_pooling2d_70 (MaxPooling (None, 32, 32, 32)        0         \n",
            "_________________________________________________________________\n",
            "conv2d_71 (Conv2D)           (None, 32, 32, 64)        18496     \n",
            "_________________________________________________________________\n",
            "leaky_re_lu_71 (LeakyReLU)   (None, 32, 32, 64)        0         \n",
            "_________________________________________________________________\n",
            "max_pooling2d_71 (MaxPooling (None, 16, 16, 64)        0         \n",
            "_________________________________________________________________\n",
            "dropout_47 (Dropout)         (None, 16, 16, 64)        0         \n",
            "_________________________________________________________________\n",
            "conv2d_72 (Conv2D)           (None, 16, 16, 128)       73856     \n",
            "_________________________________________________________________\n",
            "leaky_re_lu_72 (LeakyReLU)   (None, 16, 16, 128)       0         \n",
            "_________________________________________________________________\n",
            "max_pooling2d_72 (MaxPooling (None, 8, 8, 128)         0         \n",
            "_________________________________________________________________\n",
            "flatten_24 (Flatten)         (None, 8192)              0         \n",
            "_________________________________________________________________\n",
            "dense_47 (Dense)             (None, 256)               2097408   \n",
            "_________________________________________________________________\n",
            "dropout_48 (Dropout)         (None, 256)               0         \n",
            "_________________________________________________________________\n",
            "dense_48 (Dense)             (None, 2)                 514       \n",
            "=================================================================\n",
            "Total params: 2,192,706\n",
            "Trainable params: 2,192,706\n",
            "Non-trainable params: 0\n",
            "_________________________________________________________________\n"
          ],
          "name": "stdout"
        }
      ]
    },
    {
      "cell_type": "markdown",
      "metadata": {
        "id": "WeZBTBmVvEvc",
        "colab_type": "text"
      },
      "source": [
        "## Compilation"
      ]
    },
    {
      "cell_type": "markdown",
      "metadata": {
        "id": "F29oN3Oq-gkn",
        "colab_type": "text"
      },
      "source": [
        "Before training the model, the learning process is needed to be configured. Adam optimizer, which is a combination of Gradient Descent with momentum and RMSProp is chosen because it is effectiveness. Authors of ADAM observed that exponetial averages of past gradients and variance of the gradients (first and secon momentum) decay towars zero, so they come up with a bias correction for these terms. As a cost function categorical cross entropy is chosen since it penalizes bad predictions much more, producing larger gradients and thus converging faster. The cross entropy between estimated probability and target probability will be minimized. LearningRateScheduler can be used to decrease the learning rate by %10 at each epoch as it is in the following\n"
      ]
    },
    {
      "cell_type": "code",
      "metadata": {
        "id": "2g3YdAi5ucpQ",
        "colab_type": "code",
        "colab": {}
      },
      "source": [
        "# initiate RMSprop optimizer\n",
        "\n",
        "#opt = keras.optimizers.RMSprop(lr=0.001, rho=0.9, epsilon=None, decay=1e-2)\n",
        "#opt = keras.optimizers.SGD(lr=0.001, momentum=0.0, decay=0.0, nesterov=False)\n",
        "#opt = keras.optimizers.Adagrad(lr=0.01, epsilon=None, decay=0.0)\n",
        "#opt =keras.optimizers.Adadelta(lr=1.0, rho=0.95, epsilon=None, decay=0.0)\n",
        "opt = keras.optimizers.Adam(lr=LR, beta_1=0.9, beta_2=0.999, epsilon=None, decay=0.0, amsgrad=False)\n",
        "#opt = keras.optimizers.Adamax(lr=LR, beta_1=0.9, beta_2=0.999, epsilon=None, decay=0)\n",
        "#opt = keras.optimizers.Nadam(lr=0.002, beta_1=0.9, beta_2=0.999, epsilon=None, schedule_decay=0.004)\n",
        "model.compile(loss=keras.losses.categorical_crossentropy,\n",
        "              optimizer=opt, #instead of annealer decay = DR can be set, too\n",
        "              metrics=['accuracy'])\n",
        "annealer = LearningRateScheduler(lambda x: LR * 0.9 ** x)"
      ],
      "execution_count": 0,
      "outputs": []
    },
    {
      "cell_type": "markdown",
      "metadata": {
        "id": "bwAp9UOLwa3R",
        "colab_type": "text"
      },
      "source": [
        "## Data Augmentation\n",
        "\n",
        "To make model more robust, the data set is expanded with ImageDataGenerator. Noise added, images are distorted by shifting, rotating and flipping. Thes transformations are done because change in the perpective can change the apparent shape of the animals"
      ]
    },
    {
      "cell_type": "code",
      "metadata": {
        "id": "Dn-rZ4OowaFQ",
        "colab_type": "code",
        "outputId": "052f8497-120c-47e9-a4ef-12a4b6b9a174",
        "colab": {
          "base_uri": "https://localhost:8080/",
          "height": 51
        }
      },
      "source": [
        "from keras.preprocessing.image import ImageDataGenerator\n",
        "datagen = ImageDataGenerator(\n",
        "        rotation_range=25,  # randomly rotate images in the range (degrees, 0 to 180)\n",
        "        zoom_range = 0.2, # Randomly zoom image \n",
        "        width_shift_range=0.2,  # randomly shift images horizontally (fraction of total width)\n",
        "        height_shift_range=0.2,  # randomly shift images vertically (fraction of total height)\n",
        "        horizontal_flip=True,  # randomly flip images\n",
        "        vertical_flip=False)  # randomly flip images\n",
        "\n",
        "print(X.shape)\n",
        "datagen.fit(X)\n",
        "print(X.shape)"
      ],
      "execution_count": 0,
      "outputs": [
        {
          "output_type": "stream",
          "text": [
            "(1260, 64, 64, 3)\n",
            "(1260, 64, 64, 3)\n"
          ],
          "name": "stdout"
        }
      ]
    },
    {
      "cell_type": "markdown",
      "metadata": {
        "id": "p2O9dypAyesy",
        "colab_type": "text"
      },
      "source": [
        "## Training"
      ]
    },
    {
      "cell_type": "markdown",
      "metadata": {
        "id": "841Zr2v1_nUV",
        "colab_type": "text"
      },
      "source": [
        "As it is seen from the final epoch, training accuracy is smaller than validation accuracy. This is due to dropout regulizer. Training accuracy is calculated with the network where some units are dropped randomly but validation accuracy is calculated using whole network. When we evaluate the model on the training set, we see that the performance score is increased since the regularization layers are turned-off during the evaluation. "
      ]
    },
    {
      "cell_type": "code",
      "metadata": {
        "id": "ci3xe8L5yeMi",
        "colab_type": "code",
        "outputId": "087cd12f-cb9f-4c0d-8536-12635bf339fa",
        "colab": {
          "base_uri": "https://localhost:8080/",
          "height": 1377
        }
      },
      "source": [
        "# Fit the model\n",
        "history = model.fit_generator(datagen.flow(X,Y, batch_size=batchSize),\n",
        "                              epochs = Epochs, validation_data = (X_test,Y_test),\n",
        "                              verbose = 1, steps_per_epoch=X.shape[0] // batchSize\n",
        "                              , callbacks=[annealer])"
      ],
      "execution_count": 0,
      "outputs": [
        {
          "output_type": "stream",
          "text": [
            "Epoch 1/40\n",
            "19/19 [==============================] - 5s 242ms/step - loss: 0.7032 - acc: 0.5263 - val_loss: 0.6878 - val_acc: 0.5500\n",
            "Epoch 2/40\n",
            "19/19 [==============================] - 1s 52ms/step - loss: 0.6769 - acc: 0.5811 - val_loss: 0.6749 - val_acc: 0.6000\n",
            "Epoch 3/40\n",
            "19/19 [==============================] - 1s 68ms/step - loss: 0.6498 - acc: 0.6406 - val_loss: 0.7704 - val_acc: 0.5357\n",
            "Epoch 4/40\n",
            "19/19 [==============================] - 1s 68ms/step - loss: 0.6359 - acc: 0.6462 - val_loss: 0.6502 - val_acc: 0.6286\n",
            "Epoch 5/40\n",
            "19/19 [==============================] - 1s 69ms/step - loss: 0.6310 - acc: 0.6476 - val_loss: 0.6508 - val_acc: 0.6429\n",
            "Epoch 6/40\n",
            "19/19 [==============================] - 1s 70ms/step - loss: 0.6117 - acc: 0.6752 - val_loss: 0.6057 - val_acc: 0.7143\n",
            "Epoch 7/40\n",
            "19/19 [==============================] - 1s 70ms/step - loss: 0.6127 - acc: 0.6687 - val_loss: 0.6250 - val_acc: 0.6571\n",
            "Epoch 8/40\n",
            "19/19 [==============================] - 1s 70ms/step - loss: 0.5937 - acc: 0.6985 - val_loss: 0.6026 - val_acc: 0.6786\n",
            "Epoch 9/40\n",
            "19/19 [==============================] - 1s 69ms/step - loss: 0.5815 - acc: 0.6959 - val_loss: 0.6013 - val_acc: 0.6786\n",
            "Epoch 10/40\n",
            "19/19 [==============================] - 1s 70ms/step - loss: 0.5619 - acc: 0.7273 - val_loss: 0.5761 - val_acc: 0.6571\n",
            "Epoch 11/40\n",
            "19/19 [==============================] - 1s 69ms/step - loss: 0.5735 - acc: 0.7125 - val_loss: 0.5709 - val_acc: 0.7357\n",
            "Epoch 12/40\n",
            "19/19 [==============================] - 1s 69ms/step - loss: 0.5590 - acc: 0.7123 - val_loss: 0.5701 - val_acc: 0.7071\n",
            "Epoch 13/40\n",
            "19/19 [==============================] - 1s 69ms/step - loss: 0.5584 - acc: 0.7167 - val_loss: 0.5675 - val_acc: 0.7214\n",
            "Epoch 14/40\n",
            "19/19 [==============================] - 1s 69ms/step - loss: 0.5523 - acc: 0.7186 - val_loss: 0.5599 - val_acc: 0.7214\n",
            "Epoch 15/40\n",
            "19/19 [==============================] - 1s 69ms/step - loss: 0.5501 - acc: 0.7218 - val_loss: 0.5783 - val_acc: 0.7000\n",
            "Epoch 16/40\n",
            "19/19 [==============================] - 1s 69ms/step - loss: 0.5395 - acc: 0.7428 - val_loss: 0.5578 - val_acc: 0.7143\n",
            "Epoch 17/40\n",
            "19/19 [==============================] - 1s 69ms/step - loss: 0.5495 - acc: 0.7230 - val_loss: 0.5537 - val_acc: 0.7214\n",
            "Epoch 18/40\n",
            "19/19 [==============================] - 1s 69ms/step - loss: 0.5310 - acc: 0.7385 - val_loss: 0.5502 - val_acc: 0.7429\n",
            "Epoch 19/40\n",
            "19/19 [==============================] - 1s 69ms/step - loss: 0.5365 - acc: 0.7373 - val_loss: 0.5504 - val_acc: 0.7286\n",
            "Epoch 20/40\n",
            "19/19 [==============================] - 1s 68ms/step - loss: 0.5296 - acc: 0.7391 - val_loss: 0.5568 - val_acc: 0.7143\n",
            "Epoch 21/40\n",
            "19/19 [==============================] - 1s 70ms/step - loss: 0.5231 - acc: 0.7508 - val_loss: 0.5442 - val_acc: 0.7286\n",
            "Epoch 22/40\n",
            "19/19 [==============================] - 1s 71ms/step - loss: 0.5215 - acc: 0.7526 - val_loss: 0.5427 - val_acc: 0.7286\n",
            "Epoch 23/40\n",
            "19/19 [==============================] - 1s 70ms/step - loss: 0.5188 - acc: 0.7599 - val_loss: 0.5486 - val_acc: 0.7286\n",
            "Epoch 24/40\n",
            "19/19 [==============================] - 1s 70ms/step - loss: 0.5191 - acc: 0.7506 - val_loss: 0.5441 - val_acc: 0.7071\n",
            "Epoch 25/40\n",
            "19/19 [==============================] - 1s 71ms/step - loss: 0.5337 - acc: 0.7394 - val_loss: 0.5353 - val_acc: 0.7500\n",
            "Epoch 26/40\n",
            "19/19 [==============================] - 1s 70ms/step - loss: 0.5171 - acc: 0.7458 - val_loss: 0.5494 - val_acc: 0.7143\n",
            "Epoch 27/40\n",
            "19/19 [==============================] - 1s 71ms/step - loss: 0.5169 - acc: 0.7479 - val_loss: 0.5367 - val_acc: 0.7214\n",
            "Epoch 28/40\n",
            "19/19 [==============================] - 1s 71ms/step - loss: 0.5216 - acc: 0.7467 - val_loss: 0.5318 - val_acc: 0.7429\n",
            "Epoch 29/40\n",
            "19/19 [==============================] - 1s 71ms/step - loss: 0.5102 - acc: 0.7546 - val_loss: 0.5440 - val_acc: 0.7143\n",
            "Epoch 30/40\n",
            "19/19 [==============================] - 1s 69ms/step - loss: 0.5167 - acc: 0.7540 - val_loss: 0.5343 - val_acc: 0.7214\n",
            "Epoch 31/40\n",
            "19/19 [==============================] - 1s 69ms/step - loss: 0.5195 - acc: 0.7475 - val_loss: 0.5343 - val_acc: 0.7143\n",
            "Epoch 32/40\n",
            "19/19 [==============================] - 1s 70ms/step - loss: 0.5201 - acc: 0.7378 - val_loss: 0.5405 - val_acc: 0.7143\n",
            "Epoch 33/40\n",
            "19/19 [==============================] - 1s 70ms/step - loss: 0.5226 - acc: 0.7440 - val_loss: 0.5338 - val_acc: 0.7214\n",
            "Epoch 34/40\n",
            "19/19 [==============================] - 1s 68ms/step - loss: 0.5193 - acc: 0.7466 - val_loss: 0.5339 - val_acc: 0.7143\n",
            "Epoch 35/40\n",
            "19/19 [==============================] - 1s 69ms/step - loss: 0.5198 - acc: 0.7554 - val_loss: 0.5318 - val_acc: 0.7214\n",
            "Epoch 36/40\n",
            "19/19 [==============================] - 1s 69ms/step - loss: 0.4912 - acc: 0.7660 - val_loss: 0.5276 - val_acc: 0.7357\n",
            "Epoch 37/40\n",
            "19/19 [==============================] - 1s 70ms/step - loss: 0.5245 - acc: 0.7460 - val_loss: 0.5313 - val_acc: 0.7214\n",
            "Epoch 38/40\n",
            "19/19 [==============================] - 1s 69ms/step - loss: 0.5005 - acc: 0.7593 - val_loss: 0.5297 - val_acc: 0.7286\n",
            "Epoch 39/40\n",
            "19/19 [==============================] - 1s 69ms/step - loss: 0.5096 - acc: 0.7481 - val_loss: 0.5330 - val_acc: 0.7071\n",
            "Epoch 40/40\n",
            "19/19 [==============================] - 1s 69ms/step - loss: 0.5175 - acc: 0.7479 - val_loss: 0.5345 - val_acc: 0.7071\n"
          ],
          "name": "stdout"
        }
      ]
    },
    {
      "cell_type": "markdown",
      "metadata": {
        "id": "pF8tIDILzIQx",
        "colab_type": "text"
      },
      "source": [
        "## Training and Validation Performance"
      ]
    },
    {
      "cell_type": "code",
      "metadata": {
        "id": "66xE1X16zU4O",
        "colab_type": "code",
        "outputId": "7b39fb52-d4e8-465c-bf8e-94843dd65131",
        "colab": {
          "base_uri": "https://localhost:8080/",
          "height": 51
        }
      },
      "source": [
        "valLoss, valAcc = model.evaluate(X_test, Y_test, verbose=0)\n",
        "trainLoss, trainAcc = model.evaluate(X, Y, verbose=0)\n",
        "print(\"Validation Loss: {0:.6f}, Validation Accuracy: {1:.6f}\".format(valLoss, valAcc))\n",
        "print(\"Train Loss: {0:.6f}, Train Accuracy: {1:.6f}\".format(trainLoss, trainAcc))"
      ],
      "execution_count": 0,
      "outputs": [
        {
          "output_type": "stream",
          "text": [
            "Validation Loss: 0.534539, Validation Accuracy: 0.707143\n",
            "Train Loss: 0.469002, Train Accuracy: 0.783333\n"
          ],
          "name": "stdout"
        }
      ]
    },
    {
      "cell_type": "markdown",
      "metadata": {
        "id": "VbDW34Z3zsH-",
        "colab_type": "text"
      },
      "source": [
        ""
      ]
    },
    {
      "cell_type": "code",
      "metadata": {
        "id": "902sfxj0zspA",
        "colab_type": "code",
        "outputId": "8c305ffa-8891-42b2-a2a9-88a8cbc26e81",
        "colab": {
          "base_uri": "https://localhost:8080/",
          "height": 521
        }
      },
      "source": [
        "import seaborn as sns\n",
        "import matplotlib\n",
        "import matplotlib.pyplot as plt\n",
        "\n",
        "sns.set_style(\"darkgrid\")\n",
        "plt.plot(history.history['loss'], label = \"Training Loss\")\n",
        "plt.plot(history.history['val_loss'], label = \"Validation Loss\")\n",
        "plt.legend()\n",
        "plt.show()\n",
        "plt.plot(history.history['acc'],label = \"Training Accuracy\")\n",
        "plt.plot(history.history['val_acc'], label = \"Validation Accuracy\")\n",
        "plt.legend()\n",
        "plt.show()"
      ],
      "execution_count": 0,
      "outputs": [
        {
          "output_type": "display_data",
          "data": {
            "image/png": "[encoded data removed]",
            "text/plain": [
              "<Figure size 432x288 with 1 Axes>"
            ]
          },
          "metadata": {
            "tags": []
          }
        },
        {
          "output_type": "display_data",
          "data": {
            "image/png": "[encoded data removed]",
            "text/plain": [
              "<Figure size 432x288 with 1 Axes>"
            ]
          },
          "metadata": {
            "tags": []
          }
        }
      ]
    },
    {
      "cell_type": "markdown",
      "metadata": {
        "id": "2AH4znXC2F2M",
        "colab_type": "text"
      },
      "source": [
        "## Confusion Matrix"
      ]
    },
    {
      "cell_type": "code",
      "metadata": {
        "id": "INsSf0rF2CTf",
        "colab_type": "code",
        "outputId": "55fb653f-17ae-4841-c631-4f2b59a07ce0",
        "colab": {
          "base_uri": "https://localhost:8080/",
          "height": 530
        }
      },
      "source": [
        "from keras.utils.np_utils import to_categorical\n",
        "from sklearn.metrics import confusion_matrix\n",
        "pred = model.predict(X_test) # Predict values of the test set\n",
        "testLoss, testAcc = model.evaluate(X_test, Y_test, verbose=0)\n",
        "pred1hot = np.argmax(pred, axis=1) # Convert predicted classes to one hot vectors\n",
        "y_test = to_categorical(Y_test, num_classes = classNum) \n",
        "y_test1hot = np.argmax(Y_test, axis=1) # Convert true classes to one hot vectors\n",
        "cm = confusion_matrix(y_test1hot, pred1hot) #confusion matrix\n",
        "#print(cm)\n",
        "plt.figure(figsize=(9,9))\n",
        "sns.heatmap(cm, annot=True, fmt=\".3f\", linewidths=.5, square = True, cmap = 'Blues_r');\n",
        "plt.ylabel('Actual label');\n",
        "plt.xlabel('Predicted label');\n",
        "\n",
        "\n",
        "testLoss, testAcc = model.evaluate(X_test, Y_test, verbose=0)\n",
        "\n",
        "all_sample_title = 'Accuracy Score: {0}'.format(testAcc)\n",
        "plt.title(all_sample_title, size = 15);"
      ],
      "execution_count": 0,
      "outputs": [
        {
          "output_type": "display_data",
          "data": {
            "image/png": "[encoded data removed]",
            "text/plain": [
              "<Figure size 648x648 with 2 Axes>"
            ]
          },
          "metadata": {
            "tags": []
          }
        }
      ]
    },
    {
      "cell_type": "markdown",
      "metadata": {
        "id": "Ldh3lOlnB7UN",
        "colab_type": "text"
      },
      "source": [
        "## Saving the model"
      ]
    },
    {
      "cell_type": "code",
      "metadata": {
        "id": "_89eRQRfCcnE",
        "colab_type": "code",
        "outputId": "6471b942-dba9-42d3-9d7f-6170751c1833",
        "colab": {
          "base_uri": "https://localhost:8080/",
          "height": 34
        }
      },
      "source": [
        "# serialize model to JSON\n",
        "model_json = model.to_json()\n",
        "with open(\"model.json\", \"w\") as json_file:\n",
        "    json_file.write(model_json)\n",
        "# serialize weights to HDF5\n",
        "model.save_weights(\"model3.h5\")\n",
        "print(\"Saved model to disk\")"
      ],
      "execution_count": 0,
      "outputs": [
        {
          "output_type": "stream",
          "text": [
            "Saved model to disk\n"
          ],
          "name": "stdout"
        }
      ]
    },
    {
      "cell_type": "code",
      "metadata": {
        "id": "3s3b0GVgF89F",
        "colab_type": "code",
        "colab": {}
      },
      "source": [
        "model.save(\"model_3rdBest.h5\")"
      ],
      "execution_count": 0,
      "outputs": []
    },
    {
      "cell_type": "markdown",
      "metadata": {
        "id": "IBUGWZtqCpu8",
        "colab_type": "text"
      },
      "source": [
        "## Let's Try!"
      ]
    },
    {
      "cell_type": "code",
      "metadata": {
        "id": "etsQ8QTMCywH",
        "colab_type": "code",
        "outputId": "1dfbcdee-fa10-4c49-e048-7858975b32d1",
        "colab": {
          "base_uri": "https://localhost:8080/",
          "height": 523
        }
      },
      "source": [
        "!wget https://img-s2.onedio.com/id-553a2f679b938449229cee67/rev-0/raw/s-50cdc6132cfa31fb3a0a43263997af4e2fb0c8b5.jpg -O test_img.jpg\n",
        "!ls\n",
        "\n",
        "from skimage.io import imread\n",
        "from skimage.transform import resize\n",
        "from io import StringIO\n",
        "# TODO: Görüntüyü okuyalım:\n",
        "# TODO: Görüntüyü yeniden boyutlandıralım:\n",
        "# TODO: Görüntüyü Numpy Array haline getirip batch axis ekleyelim.\n",
        "img_size = 64\n",
        "img = imread(\"test_img.jpg\")\n",
        "img = resize(img, (img_size, img_size, 3))\n",
        "X_test2 = np.zeros((1, 64, 64, 3), dtype='float64')\n",
        "X_test2[0] = img\n",
        "X_test2 /= 255\n",
        "X_test2 -= np.mean(X_test, axis = 0)\n",
        "# TODO: Görüntüyü ekranda gösterelim:\n",
        "plt.imshow(img, interpolation='nearest')\n",
        "\n",
        "plt.axis(\"off\")\n",
        "\n",
        "#plt.show()\n",
        "# Model çıktısını alalım:\n",
        "Y_test_img = model.predict(X_test2)\n",
        "print('Olasılıklar:', Y_test_img[0])\n",
        "Y_test_img = np.argmax(Y_test_img, axis=1)\n",
        "Y_test_img = 'cat' if Y_test_img[0] == 0 else 'dog'\n",
        "print('It is a '+ Y_test_img + ' !')"
      ],
      "execution_count": 0,
      "outputs": [
        {
          "output_type": "stream",
          "text": [
            "--2019-06-19 13:19:47--  https://img-s2.onedio.com/id-553a2f679b938449229cee67/rev-0/raw/s-50cdc6132cfa31fb3a0a43263997af4e2fb0c8b5.jpg\n",
            "Resolving img-s2.onedio.com (img-s2.onedio.com)... 104.16.228.51, 104.16.229.51, 2606:4700::6810:e533, ...\n",
            "Connecting to img-s2.onedio.com (img-s2.onedio.com)|104.16.228.51|:443... connected.\n",
            "HTTP request sent, awaiting response... 200 OK\n",
            "Length: 30196 (29K) [image/jpeg]\n",
            "Saving to: ‘test_img.jpg’\n",
            "\n",
            "\rtest_img.jpg          0%[                    ]       0  --.-KB/s               \rtest_img.jpg        100%[===================>]  29.49K  --.-KB/s    in 0s      \n",
            "\n",
            "2019-06-19 13:19:47 (106 MB/s) - ‘test_img.jpg’ saved [30196/30196]\n",
            "\n",
            "model2.h5\t  model.json   test_img.jpg  Y.npy\n",
            "model_2ndBest.h5  sample_data  X.npy\n",
            "Olasılıklar: [0.70508575 0.2949143 ]\n",
            "It is a cat !\n"
          ],
          "name": "stdout"
        },
        {
          "output_type": "display_data",
          "data": {
            "image/png": "[encoded data removed]",
            "text/plain": [
              "<Figure size 432x288 with 1 Axes>"
            ]
          },
          "metadata": {
            "tags": []
          }
        }
      ]
    }
  ]
}